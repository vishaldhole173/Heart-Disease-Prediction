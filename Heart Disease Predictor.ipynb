{
 "cells": [
  {
   "cell_type": "code",
   "execution_count": 2,
   "id": "hourly-geneva",
   "metadata": {},
   "outputs": [],
   "source": [
    "import pandas as pd"
   ]
  },
  {
   "cell_type": "code",
   "execution_count": 3,
   "id": "embedded-finder",
   "metadata": {},
   "outputs": [],
   "source": [
    "dataset=pd.read_csv('heart.csv')"
   ]
  },
  {
   "cell_type": "code",
   "execution_count": 4,
   "id": "accompanied-ministry",
   "metadata": {},
   "outputs": [
    {
     "data": {
      "text/html": [
       "<div>\n",
       "<style scoped>\n",
       "    .dataframe tbody tr th:only-of-type {\n",
       "        vertical-align: middle;\n",
       "    }\n",
       "\n",
       "    .dataframe tbody tr th {\n",
       "        vertical-align: top;\n",
       "    }\n",
       "\n",
       "    .dataframe thead th {\n",
       "        text-align: right;\n",
       "    }\n",
       "</style>\n",
       "<table border=\"1\" class=\"dataframe\">\n",
       "  <thead>\n",
       "    <tr style=\"text-align: right;\">\n",
       "      <th></th>\n",
       "      <th>age</th>\n",
       "      <th>sex</th>\n",
       "      <th>cp</th>\n",
       "      <th>trestbps</th>\n",
       "      <th>chol</th>\n",
       "      <th>fbs</th>\n",
       "      <th>restecg</th>\n",
       "      <th>thalach</th>\n",
       "      <th>exang</th>\n",
       "      <th>oldpeak</th>\n",
       "      <th>slope</th>\n",
       "      <th>ca</th>\n",
       "      <th>thal</th>\n",
       "      <th>target</th>\n",
       "    </tr>\n",
       "  </thead>\n",
       "  <tbody>\n",
       "    <tr>\n",
       "      <th>0</th>\n",
       "      <td>63</td>\n",
       "      <td>1</td>\n",
       "      <td>3</td>\n",
       "      <td>145</td>\n",
       "      <td>233</td>\n",
       "      <td>1</td>\n",
       "      <td>0</td>\n",
       "      <td>150</td>\n",
       "      <td>0</td>\n",
       "      <td>2.3</td>\n",
       "      <td>0</td>\n",
       "      <td>0</td>\n",
       "      <td>1</td>\n",
       "      <td>1</td>\n",
       "    </tr>\n",
       "    <tr>\n",
       "      <th>1</th>\n",
       "      <td>37</td>\n",
       "      <td>1</td>\n",
       "      <td>2</td>\n",
       "      <td>130</td>\n",
       "      <td>250</td>\n",
       "      <td>0</td>\n",
       "      <td>1</td>\n",
       "      <td>187</td>\n",
       "      <td>0</td>\n",
       "      <td>3.5</td>\n",
       "      <td>0</td>\n",
       "      <td>0</td>\n",
       "      <td>2</td>\n",
       "      <td>1</td>\n",
       "    </tr>\n",
       "    <tr>\n",
       "      <th>2</th>\n",
       "      <td>41</td>\n",
       "      <td>0</td>\n",
       "      <td>1</td>\n",
       "      <td>130</td>\n",
       "      <td>204</td>\n",
       "      <td>0</td>\n",
       "      <td>0</td>\n",
       "      <td>172</td>\n",
       "      <td>0</td>\n",
       "      <td>1.4</td>\n",
       "      <td>2</td>\n",
       "      <td>0</td>\n",
       "      <td>2</td>\n",
       "      <td>1</td>\n",
       "    </tr>\n",
       "    <tr>\n",
       "      <th>3</th>\n",
       "      <td>56</td>\n",
       "      <td>1</td>\n",
       "      <td>1</td>\n",
       "      <td>120</td>\n",
       "      <td>236</td>\n",
       "      <td>0</td>\n",
       "      <td>1</td>\n",
       "      <td>178</td>\n",
       "      <td>0</td>\n",
       "      <td>0.8</td>\n",
       "      <td>2</td>\n",
       "      <td>0</td>\n",
       "      <td>2</td>\n",
       "      <td>1</td>\n",
       "    </tr>\n",
       "    <tr>\n",
       "      <th>4</th>\n",
       "      <td>57</td>\n",
       "      <td>0</td>\n",
       "      <td>0</td>\n",
       "      <td>120</td>\n",
       "      <td>354</td>\n",
       "      <td>0</td>\n",
       "      <td>1</td>\n",
       "      <td>163</td>\n",
       "      <td>1</td>\n",
       "      <td>0.6</td>\n",
       "      <td>2</td>\n",
       "      <td>0</td>\n",
       "      <td>2</td>\n",
       "      <td>1</td>\n",
       "    </tr>\n",
       "  </tbody>\n",
       "</table>\n",
       "</div>"
      ],
      "text/plain": [
       "   age  sex  cp  trestbps  chol  fbs  restecg  thalach  exang  oldpeak  slope  \\\n",
       "0   63    1   3       145   233    1        0      150      0      2.3      0   \n",
       "1   37    1   2       130   250    0        1      187      0      3.5      0   \n",
       "2   41    0   1       130   204    0        0      172      0      1.4      2   \n",
       "3   56    1   1       120   236    0        1      178      0      0.8      2   \n",
       "4   57    0   0       120   354    0        1      163      1      0.6      2   \n",
       "\n",
       "   ca  thal  target  \n",
       "0   0     1       1  \n",
       "1   0     2       1  \n",
       "2   0     2       1  \n",
       "3   0     2       1  \n",
       "4   0     2       1  "
      ]
     },
     "execution_count": 4,
     "metadata": {},
     "output_type": "execute_result"
    }
   ],
   "source": [
    "dataset.head()"
   ]
  },
  {
   "cell_type": "code",
   "execution_count": 5,
   "id": "dressed-charge",
   "metadata": {},
   "outputs": [],
   "source": [
    "y=dataset['target']"
   ]
  },
  {
   "cell_type": "code",
   "execution_count": 6,
   "id": "spoken-theater",
   "metadata": {},
   "outputs": [],
   "source": [
    "x=dataset[['age','cp', 'trestbps', 'chol','restecg', 'thalach', 'oldpeak', 'slope']]\n",
    "\n",
    "\n",
    "# ,'Age_0-9','Age_10-19','Age_20-24','Age_25-59','Age_60+','Gender_Female','Gender_Male','Gender_Transgender','Severity_Mild','Severity_Moderate','Severity_None','Severity_Severe','Contact_Dont-Know'"
   ]
  },
  {
   "cell_type": "code",
   "execution_count": 7,
   "id": "usual-military",
   "metadata": {},
   "outputs": [
    {
     "name": "stderr",
     "output_type": "stream",
     "text": [
      "Using TensorFlow backend.\n",
      "C:\\Anaconda\\envs\\arth\\lib\\site-packages\\tensorflow\\python\\framework\\dtypes.py:516: FutureWarning: Passing (type, 1) or '1type' as a synonym of type is deprecated; in a future version of numpy, it will be understood as (type, (1,)) / '(1,)type'.\n",
      "  _np_qint8 = np.dtype([(\"qint8\", np.int8, 1)])\n",
      "C:\\Anaconda\\envs\\arth\\lib\\site-packages\\tensorflow\\python\\framework\\dtypes.py:517: FutureWarning: Passing (type, 1) or '1type' as a synonym of type is deprecated; in a future version of numpy, it will be understood as (type, (1,)) / '(1,)type'.\n",
      "  _np_quint8 = np.dtype([(\"quint8\", np.uint8, 1)])\n",
      "C:\\Anaconda\\envs\\arth\\lib\\site-packages\\tensorflow\\python\\framework\\dtypes.py:518: FutureWarning: Passing (type, 1) or '1type' as a synonym of type is deprecated; in a future version of numpy, it will be understood as (type, (1,)) / '(1,)type'.\n",
      "  _np_qint16 = np.dtype([(\"qint16\", np.int16, 1)])\n",
      "C:\\Anaconda\\envs\\arth\\lib\\site-packages\\tensorflow\\python\\framework\\dtypes.py:519: FutureWarning: Passing (type, 1) or '1type' as a synonym of type is deprecated; in a future version of numpy, it will be understood as (type, (1,)) / '(1,)type'.\n",
      "  _np_quint16 = np.dtype([(\"quint16\", np.uint16, 1)])\n",
      "C:\\Anaconda\\envs\\arth\\lib\\site-packages\\tensorflow\\python\\framework\\dtypes.py:520: FutureWarning: Passing (type, 1) or '1type' as a synonym of type is deprecated; in a future version of numpy, it will be understood as (type, (1,)) / '(1,)type'.\n",
      "  _np_qint32 = np.dtype([(\"qint32\", np.int32, 1)])\n",
      "C:\\Anaconda\\envs\\arth\\lib\\site-packages\\tensorflow\\python\\framework\\dtypes.py:525: FutureWarning: Passing (type, 1) or '1type' as a synonym of type is deprecated; in a future version of numpy, it will be understood as (type, (1,)) / '(1,)type'.\n",
      "  np_resource = np.dtype([(\"resource\", np.ubyte, 1)])\n",
      "C:\\Anaconda\\envs\\arth\\lib\\site-packages\\tensorboard\\compat\\tensorflow_stub\\dtypes.py:541: FutureWarning: Passing (type, 1) or '1type' as a synonym of type is deprecated; in a future version of numpy, it will be understood as (type, (1,)) / '(1,)type'.\n",
      "  _np_qint8 = np.dtype([(\"qint8\", np.int8, 1)])\n",
      "C:\\Anaconda\\envs\\arth\\lib\\site-packages\\tensorboard\\compat\\tensorflow_stub\\dtypes.py:542: FutureWarning: Passing (type, 1) or '1type' as a synonym of type is deprecated; in a future version of numpy, it will be understood as (type, (1,)) / '(1,)type'.\n",
      "  _np_quint8 = np.dtype([(\"quint8\", np.uint8, 1)])\n",
      "C:\\Anaconda\\envs\\arth\\lib\\site-packages\\tensorboard\\compat\\tensorflow_stub\\dtypes.py:543: FutureWarning: Passing (type, 1) or '1type' as a synonym of type is deprecated; in a future version of numpy, it will be understood as (type, (1,)) / '(1,)type'.\n",
      "  _np_qint16 = np.dtype([(\"qint16\", np.int16, 1)])\n",
      "C:\\Anaconda\\envs\\arth\\lib\\site-packages\\tensorboard\\compat\\tensorflow_stub\\dtypes.py:544: FutureWarning: Passing (type, 1) or '1type' as a synonym of type is deprecated; in a future version of numpy, it will be understood as (type, (1,)) / '(1,)type'.\n",
      "  _np_quint16 = np.dtype([(\"quint16\", np.uint16, 1)])\n",
      "C:\\Anaconda\\envs\\arth\\lib\\site-packages\\tensorboard\\compat\\tensorflow_stub\\dtypes.py:545: FutureWarning: Passing (type, 1) or '1type' as a synonym of type is deprecated; in a future version of numpy, it will be understood as (type, (1,)) / '(1,)type'.\n",
      "  _np_qint32 = np.dtype([(\"qint32\", np.int32, 1)])\n",
      "C:\\Anaconda\\envs\\arth\\lib\\site-packages\\tensorboard\\compat\\tensorflow_stub\\dtypes.py:550: FutureWarning: Passing (type, 1) or '1type' as a synonym of type is deprecated; in a future version of numpy, it will be understood as (type, (1,)) / '(1,)type'.\n",
      "  np_resource = np.dtype([(\"resource\", np.ubyte, 1)])\n"
     ]
    }
   ],
   "source": [
    "from keras.models import Sequential\n",
    "from keras.layers import Dense\n",
    "from keras.optimizers import Adam"
   ]
  },
  {
   "cell_type": "code",
   "execution_count": 8,
   "id": "novel-restaurant",
   "metadata": {},
   "outputs": [],
   "source": [
    "model=Sequential()"
   ]
  },
  {
   "cell_type": "code",
   "execution_count": 10,
   "id": "swedish-religion",
   "metadata": {},
   "outputs": [],
   "source": [
    "model.add(Dense(units=12,input_dim=8, activation='relu'))"
   ]
  },
  {
   "cell_type": "code",
   "execution_count": 11,
   "id": "adequate-thailand",
   "metadata": {},
   "outputs": [],
   "source": [
    "model.add(Dense(units=8, activation='relu'))\n",
    "model.add(Dense(units=16, activation='relu'))"
   ]
  },
  {
   "cell_type": "code",
   "execution_count": 12,
   "id": "corporate-macintosh",
   "metadata": {},
   "outputs": [],
   "source": [
    "model.add(Dense(units=1, activation='sigmoid'))\n",
    "#op layer\n",
    "#sigmoid function if you have binary data"
   ]
  },
  {
   "cell_type": "code",
   "execution_count": 13,
   "id": "widespread-session",
   "metadata": {},
   "outputs": [
    {
     "name": "stdout",
     "output_type": "stream",
     "text": [
      "WARNING:tensorflow:From C:\\Anaconda\\envs\\arth\\lib\\site-packages\\tensorflow\\python\\ops\\nn_impl.py:180: add_dispatch_support.<locals>.wrapper (from tensorflow.python.ops.array_ops) is deprecated and will be removed in a future version.\n",
      "Instructions for updating:\n",
      "Use tf.where in 2.0, which has the same broadcast rule as np.where\n"
     ]
    }
   ],
   "source": [
    "model.compile(loss='binary_crossentropy',optimizer='adam',metrics=['accuracy'])"
   ]
  },
  {
   "cell_type": "code",
   "execution_count": 14,
   "id": "bronze-procurement",
   "metadata": {},
   "outputs": [
    {
     "name": "stdout",
     "output_type": "stream",
     "text": [
      "Model: \"sequential_1\"\n",
      "_________________________________________________________________\n",
      "Layer (type)                 Output Shape              Param #   \n",
      "=================================================================\n",
      "dense_1 (Dense)              (None, 12)                108       \n",
      "_________________________________________________________________\n",
      "dense_2 (Dense)              (None, 12)                156       \n",
      "_________________________________________________________________\n",
      "dense_3 (Dense)              (None, 8)                 104       \n",
      "_________________________________________________________________\n",
      "dense_4 (Dense)              (None, 16)                144       \n",
      "_________________________________________________________________\n",
      "dense_5 (Dense)              (None, 1)                 17        \n",
      "=================================================================\n",
      "Total params: 529\n",
      "Trainable params: 529\n",
      "Non-trainable params: 0\n",
      "_________________________________________________________________\n"
     ]
    }
   ],
   "source": [
    "model.summary()"
   ]
  },
  {
   "cell_type": "code",
   "execution_count": 16,
   "id": "minor-medication",
   "metadata": {},
   "outputs": [
    {
     "name": "stdout",
     "output_type": "stream",
     "text": [
      "Epoch 1/49\n",
      "303/303 [==============================] - 0s 79us/step - loss: 0.5684 - accuracy: 0.7063\n",
      "Epoch 2/49\n",
      "303/303 [==============================] - 0s 106us/step - loss: 0.5680 - accuracy: 0.7030\n",
      "Epoch 3/49\n",
      "303/303 [==============================] - 0s 106us/step - loss: 0.5563 - accuracy: 0.7261\n",
      "Epoch 4/49\n",
      "303/303 [==============================] - 0s 79us/step - loss: 0.5578 - accuracy: 0.7129\n",
      "Epoch 5/49\n",
      "303/303 [==============================] - 0s 106us/step - loss: 0.5655 - accuracy: 0.6931\n",
      "Epoch 6/49\n",
      "303/303 [==============================] - 0s 79us/step - loss: 0.5543 - accuracy: 0.7228\n",
      "Epoch 7/49\n",
      "303/303 [==============================] - 0s 79us/step - loss: 0.5522 - accuracy: 0.7261\n",
      "Epoch 8/49\n",
      "303/303 [==============================] - 0s 79us/step - loss: 0.5568 - accuracy: 0.7162\n",
      "Epoch 9/49\n",
      "303/303 [==============================] - 0s 79us/step - loss: 0.5597 - accuracy: 0.7129\n",
      "Epoch 10/49\n",
      "303/303 [==============================] - 0s 79us/step - loss: 0.5710 - accuracy: 0.6997\n",
      "Epoch 11/49\n",
      "303/303 [==============================] - 0s 79us/step - loss: 0.5562 - accuracy: 0.7195\n",
      "Epoch 12/49\n",
      "303/303 [==============================] - 0s 106us/step - loss: 0.5488 - accuracy: 0.7327\n",
      "Epoch 13/49\n",
      "303/303 [==============================] - 0s 79us/step - loss: 0.5510 - accuracy: 0.7195\n",
      "Epoch 14/49\n",
      "303/303 [==============================] - 0s 106us/step - loss: 0.5516 - accuracy: 0.7096\n",
      "Epoch 15/49\n",
      "303/303 [==============================] - 0s 79us/step - loss: 0.5619 - accuracy: 0.6997\n",
      "Epoch 16/49\n",
      "303/303 [==============================] - 0s 106us/step - loss: 0.5457 - accuracy: 0.7261\n",
      "Epoch 17/49\n",
      "303/303 [==============================] - 0s 79us/step - loss: 0.5624 - accuracy: 0.7096\n",
      "Epoch 18/49\n",
      "303/303 [==============================] - 0s 79us/step - loss: 0.5560 - accuracy: 0.7129\n",
      "Epoch 19/49\n",
      "303/303 [==============================] - 0s 79us/step - loss: 0.5552 - accuracy: 0.7162\n",
      "Epoch 20/49\n",
      "303/303 [==============================] - 0s 79us/step - loss: 0.5545 - accuracy: 0.7096\n",
      "Epoch 21/49\n",
      "303/303 [==============================] - ETA: 0s - loss: 0.4246 - accuracy: 0.84 - 0s 79us/step - loss: 0.5639 - accuracy: 0.7261\n",
      "Epoch 22/49\n",
      "303/303 [==============================] - 0s 79us/step - loss: 0.6183 - accuracy: 0.6832\n",
      "Epoch 23/49\n",
      "303/303 [==============================] - 0s 79us/step - loss: 0.5773 - accuracy: 0.6898\n",
      "Epoch 24/49\n",
      "303/303 [==============================] - 0s 79us/step - loss: 0.5525 - accuracy: 0.7195\n",
      "Epoch 25/49\n",
      "303/303 [==============================] - 0s 79us/step - loss: 0.5522 - accuracy: 0.7063\n",
      "Epoch 26/49\n",
      "303/303 [==============================] - 0s 106us/step - loss: 0.5434 - accuracy: 0.7327\n",
      "Epoch 27/49\n",
      "303/303 [==============================] - 0s 79us/step - loss: 0.5822 - accuracy: 0.6898\n",
      "Epoch 28/49\n",
      "303/303 [==============================] - 0s 79us/step - loss: 0.5468 - accuracy: 0.7096\n",
      "Epoch 29/49\n",
      "303/303 [==============================] - 0s 79us/step - loss: 0.5416 - accuracy: 0.7195\n",
      "Epoch 30/49\n",
      "303/303 [==============================] - 0s 79us/step - loss: 0.5442 - accuracy: 0.7426\n",
      "Epoch 31/49\n",
      "303/303 [==============================] - 0s 106us/step - loss: 0.5480 - accuracy: 0.7195\n",
      "Epoch 32/49\n",
      "303/303 [==============================] - 0s 79us/step - loss: 0.5350 - accuracy: 0.7327\n",
      "Epoch 33/49\n",
      "303/303 [==============================] - 0s 79us/step - loss: 0.5804 - accuracy: 0.6898\n",
      "Epoch 34/49\n",
      "303/303 [==============================] - 0s 79us/step - loss: 0.5477 - accuracy: 0.7228\n",
      "Epoch 35/49\n",
      "303/303 [==============================] - 0s 79us/step - loss: 0.5365 - accuracy: 0.7327\n",
      "Epoch 36/49\n",
      "303/303 [==============================] - 0s 79us/step - loss: 0.5407 - accuracy: 0.7360\n",
      "Epoch 37/49\n",
      "303/303 [==============================] - 0s 106us/step - loss: 0.5359 - accuracy: 0.7294\n",
      "Epoch 38/49\n",
      "303/303 [==============================] - 0s 79us/step - loss: 0.5344 - accuracy: 0.7327\n",
      "Epoch 39/49\n",
      "303/303 [==============================] - 0s 79us/step - loss: 0.5315 - accuracy: 0.7294\n",
      "Epoch 40/49\n",
      "303/303 [==============================] - 0s 106us/step - loss: 0.5396 - accuracy: 0.7261\n",
      "Epoch 41/49\n",
      "303/303 [==============================] - 0s 106us/step - loss: 0.5430 - accuracy: 0.7195\n",
      "Epoch 42/49\n",
      "303/303 [==============================] - 0s 79us/step - loss: 0.5387 - accuracy: 0.7096\n",
      "Epoch 43/49\n",
      "303/303 [==============================] - 0s 106us/step - loss: 0.5645 - accuracy: 0.7162\n",
      "Epoch 44/49\n",
      "303/303 [==============================] - 0s 106us/step - loss: 0.5346 - accuracy: 0.7261\n",
      "Epoch 45/49\n",
      "303/303 [==============================] - 0s 106us/step - loss: 0.5311 - accuracy: 0.7162\n",
      "Epoch 46/49\n",
      "303/303 [==============================] - 0s 79us/step - loss: 0.5302 - accuracy: 0.7327\n",
      "Epoch 47/49\n",
      "303/303 [==============================] - 0s 79us/step - loss: 0.5373 - accuracy: 0.7360\n",
      "Epoch 48/49\n",
      "303/303 [==============================] - 0s 211us/step - loss: 0.5389 - accuracy: 0.7129\n",
      "Epoch 49/49\n",
      "303/303 [==============================] - 0s 53us/step - loss: 0.5255 - accuracy: 0.7327\n"
     ]
    },
    {
     "data": {
      "text/plain": [
       "<keras.callbacks.callbacks.History at 0x1f1bc8b2488>"
      ]
     },
     "execution_count": 16,
     "metadata": {},
     "output_type": "execute_result"
    }
   ],
   "source": [
    "model.fit(x,y, epochs=49)"
   ]
  },
  {
   "cell_type": "code",
   "execution_count": 20,
   "id": "hindu-employment",
   "metadata": {},
   "outputs": [],
   "source": [
    "model.save(\"heartdisease_predicting_model2.h5\")"
   ]
  },
  {
   "cell_type": "code",
   "execution_count": 21,
   "id": "instrumental-warning",
   "metadata": {},
   "outputs": [],
   "source": [
    "from keras.models import load_model"
   ]
  },
  {
   "cell_type": "code",
   "execution_count": 22,
   "id": "retired-louis",
   "metadata": {},
   "outputs": [],
   "source": [
    "m = load_model('heartdisease_predicting_model2.h5')"
   ]
  },
  {
   "cell_type": "code",
   "execution_count": 50,
   "id": "tough-clearance",
   "metadata": {},
   "outputs": [
    {
     "data": {
      "text/plain": [
       "1"
      ]
     },
     "execution_count": 50,
     "metadata": {},
     "output_type": "execute_result"
    }
   ],
   "source": [
    "result =m.predict([[[ 54,0,110,266,0,108,0,1 ]]])\n",
    "result =round(result[0][0])\n",
    "result"
   ]
  },
  {
   "cell_type": "code",
   "execution_count": 23,
   "id": "desirable-membership",
   "metadata": {},
   "outputs": [
    {
     "data": {
      "text/plain": [
       "1"
      ]
     },
     "execution_count": 23,
     "metadata": {},
     "output_type": "execute_result"
    }
   ],
   "source": [
    "result1 =m.predict([[[ 57,0,120,354,1,163,0.6,2]]])\n",
    "result1 =round(result1[0][0])\n",
    "result1"
   ]
  },
  {
   "cell_type": "raw",
   "id": "basic-fraction",
   "metadata": {},
   "source": []
  },
  {
   "cell_type": "code",
   "execution_count": null,
   "id": "basic-commander",
   "metadata": {},
   "outputs": [],
   "source": []
  }
 ],
 "metadata": {
  "kernelspec": {
   "display_name": "Python 3",
   "language": "python",
   "name": "python3"
  },
  "language_info": {
   "codemirror_mode": {
    "name": "ipython",
    "version": 3
   },
   "file_extension": ".py",
   "mimetype": "text/x-python",
   "name": "python",
   "nbconvert_exporter": "python",
   "pygments_lexer": "ipython3",
   "version": "3.7.9"
  }
 },
 "nbformat": 4,
 "nbformat_minor": 5
}
